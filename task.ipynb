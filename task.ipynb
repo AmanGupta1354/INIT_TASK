{
 "cells": [
  {
   "cell_type": "code",
   "execution_count": null,
   "id": "cc5839ce",
   "metadata": {},
   "outputs": [],
   "source": [
    "%pip install numpy pandas "
   ]
  },
  {
   "cell_type": "code",
   "execution_count": null,
   "id": "dbfd3ddc",
   "metadata": {},
   "outputs": [],
   "source": [
    "import numpy as np\n",
    "import pandas as pd"
   ]
  },
  {
   "cell_type": "code",
   "execution_count": null,
   "id": "5ff118d3",
   "metadata": {},
   "outputs": [],
   "source": [
    "cust_df=pd.read_csv('customers.csv')\n",
    "trans_df=pd.read_csv('transactions.csv')\n",
    "prod_df=pd.read_csv('products.csv')"
   ]
  },
  {
   "cell_type": "markdown",
   "id": "f828a811",
   "metadata": {},
   "source": [
    "Part A: Data Loading & Basic Operations \n",
    "\n"
   ]
  },
  {
   "cell_type": "code",
   "execution_count": null,
   "id": "4479f664",
   "metadata": {},
   "outputs": [],
   "source": [
    "print(\"Shape of Transactions:\", trans_df.shape)\n",
    "print(\"Shape of Customers:\", cust_df.shape)\n",
    "print(\"Shape of Products:\", prod_df.shape)"
   ]
  },
  {
   "cell_type": "code",
   "execution_count": null,
   "id": "4e548cce",
   "metadata": {},
   "outputs": [],
   "source": [
    "print(\"Data type of each column in Transactions:\\n\", trans_df.dtypes)\n",
    "print(\"Data type of each column in Customers:\\n\", cust_df.dtypes)\n",
    "print(\"Data type of each column in Products:\\n\", prod_df.dtypes)"
   ]
  },
  {
   "cell_type": "code",
   "execution_count": null,
   "id": "13b8e882",
   "metadata": {},
   "outputs": [],
   "source": [
    "print(\"FIrst 3 rows of Transactions:\\n\", trans_df.head(3))\n",
    "print(\"FIrst 3 rows of Customers:\\n\", cust_df.head(3))\n",
    "print(\"FIrst 3 rows of Products:\\n\", prod_df.head(3))"
   ]
  },
  {
   "cell_type": "code",
   "execution_count": null,
   "id": "b33ba190",
   "metadata": {},
   "outputs": [],
   "source": [
    "print(\"Missing values in Transactions:\\n\", trans_df.isnull().sum())\n",
    "print(\"Missing values in Customers:\\n\", cust_df.isnull().sum())\n",
    "print(\"Missing values in Products:\\n\", prod_df.isnull().sum())"
   ]
  },
  {
   "cell_type": "code",
   "execution_count": null,
   "id": "57ade871",
   "metadata": {},
   "outputs": [],
   "source": [
    "trans_duploicated=trans_df.duplicated().sum()\n",
    "cust_duploicated=cust_df.duplicated().sum()\n",
    "prod_duploicated=prod_df.duplicated().sum()\n",
    "print(\"Duplicate rows in Transactions:\", trans_duploicated)\n",
    "print(\"Duplicate rows in Customers:\", cust_duploicated)\n",
    "print(\"Duplicate rows in Products:\", prod_duploicated)"
   ]
  },
  {
   "cell_type": "code",
   "execution_count": null,
   "id": "09583164",
   "metadata": {},
   "outputs": [],
   "source": [
    "trans_df['timestamp'] = pd.to_datetime(trans_df['timestamp'])\n",
    "\n",
    "earliest_date = trans_df['timestamp'].min()\n",
    "latest_date = trans_df['timestamp'].max()\n",
    "\n",
    "print(\"Earliest transaction date:\", earliest_date)\n",
    "print(\"Latest transaction date:\", latest_date)"
   ]
  },
  {
   "cell_type": "code",
   "execution_count": null,
   "id": "f01bd535",
   "metadata": {},
   "outputs": [],
   "source": [
    "trans_df['hours']=trans_df['timestamp'].dt.hour\n",
    "trans_df['day_of_week']=trans_df['timestamp'].dt.day_name()\n",
    "trans_df['months']=trans_df['timestamp'].dt.month_name()"
   ]
  },
  {
   "cell_type": "code",
   "execution_count": null,
   "id": "3b935d8b",
   "metadata": {},
   "outputs": [],
   "source": [
    "trans_df.head()\n",
    "# trans_df.drop(['days'], inplace=True, axis=1)"
   ]
  },
  {
   "cell_type": "markdown",
   "id": "09409e86",
   "metadata": {},
   "source": [
    "Part B: Data Cleaning & Transformation "
   ]
  },
  {
   "cell_type": "code",
   "execution_count": null,
   "id": "b8655041",
   "metadata": {},
   "outputs": [],
   "source": [
    "num_cols = trans_df.select_dtypes(include=['number']).columns\n",
    "trans_df[num_cols] = trans_df[num_cols].fillna(trans_df[num_cols].median())\n",
    "\n",
    "cat_cols = trans_df.select_dtypes(include=['object']).columns\n",
    "for col in cat_cols:\n",
    "    trans_df[col] = trans_df[col].fillna(trans_df[col].mode()[0])\n",
    "\n",
    "\n",
    "# print(\"Missing values after handling:\\n\", trans_df.isnull().sum())"
   ]
  },
  {
   "cell_type": "code",
   "execution_count": null,
   "id": "a46bba0e",
   "metadata": {},
   "outputs": [],
   "source": [
    "trans_df['revenue'] = trans_df['quantity'] * trans_df['price']\n",
    "trans_df.head()"
   ]
  },
  {
   "cell_type": "code",
   "execution_count": null,
   "id": "117101f8",
   "metadata": {},
   "outputs": [],
   "source": [
    "full_data=trans_df.merge(cust_df, on='customer_id', how='left').merge(prod_df, on='product_id', how='left')\n",
    "full_data.head()"
   ]
  },
  {
   "cell_type": "code",
   "execution_count": null,
   "id": "162d05ae",
   "metadata": {},
   "outputs": [],
   "source": [
    "# full_data.columns"
   ]
  },
  {
   "cell_type": "code",
   "execution_count": null,
   "id": "d7a15454",
   "metadata": {},
   "outputs": [],
   "source": [
    "full_data['profit_margin']=(full_data['price']-full_data['cost_price'])/full_data['price']*100\n",
    "full_data.head()"
   ]
  },
  {
   "cell_type": "markdown",
   "id": "a2a8e39c",
   "metadata": {},
   "source": [
    "Part C: Aggregation & Analysis "
   ]
  },
  {
   "cell_type": "markdown",
   "id": "496d9f48",
   "metadata": {},
   "source": [
    "C1. Customer Metrics"
   ]
  },
  {
   "cell_type": "code",
   "execution_count": null,
   "id": "e89613e0",
   "metadata": {},
   "outputs": [],
   "source": [
    "# 1. Total revenue generated, number of transactions, average transaction value\n",
    "customer_summary = (\n",
    "    full_data.groupby('customer_id').agg\n",
    "    (\n",
    "        total_revenue=('revenue', 'sum'),\n",
    "        num_transactions=('transaction_id', 'count'),\n",
    "        avg_transaction_value=('revenue', 'mean'),\n",
    "        customer_name=('customer_name', 'first'),\n",
    "        country=('country', 'first')\n",
    "    )\n",
    "    .reset_index()\n",
    ")"
   ]
  },
  {
   "cell_type": "code",
   "execution_count": null,
   "id": "37aa9181",
   "metadata": {},
   "outputs": [],
   "source": [
    "# 2. Most frequently purchased category per customer\n",
    "most_freq_category = (\n",
    "    full_data.groupby(['customer_id', 'category']).size().reset_index(name='count')\n",
    "    .sort_values(['customer_id', 'count'], ascending=[True, False])\n",
    "    .drop_duplicates('customer_id')[['customer_id', 'category']]\n",
    "    .rename(columns={'category': 'most_freq_category'})\n",
    ")"
   ]
  },
  {
   "cell_type": "code",
   "execution_count": null,
   "id": "fb2190d1",
   "metadata": {},
   "outputs": [],
   "source": [
    "customer_summary = customer_summary.merge(most_freq_category, on='customer_id', how='left')\n",
    "customer_summary = customer_summary.sort_values(by='total_revenue', ascending=False)\n",
    "\n",
    "print(customer_summary.head())"
   ]
  },
  {
   "cell_type": "markdown",
   "id": "a65ed44f",
   "metadata": {},
   "source": [
    "C2. Time-Based Analysis"
   ]
  },
  {
   "cell_type": "code",
   "execution_count": null,
   "id": "c18bced1",
   "metadata": {},
   "outputs": [],
   "source": [
    "# Group by 'months' to compute monthly metrics\n",
    "month_summary = (\n",
    "    full_data.groupby('months').agg(\n",
    "        total_revenue=('revenue', 'sum'),\n",
    "        unique_customers=('customer_id', 'nunique'),\n",
    "        avg_order_value=('revenue', 'mean')\n",
    "    )\n",
    "    .reset_index()\n",
    ")"
   ]
  },
  {
   "cell_type": "code",
   "execution_count": null,
   "id": "5b30ff9d",
   "metadata": {},
   "outputs": [],
   "source": [
    "month_order = ['January','February','March','April','May','June','July','August','September','October','November','December']\n",
    "month_summary['months'] = pd.Categorical(month_summary['months'], categories=month_order, ordered=True)\n",
    "month_summary = month_summary.sort_values('months')"
   ]
  },
  {
   "cell_type": "code",
   "execution_count": null,
   "id": "62c139fa",
   "metadata": {},
   "outputs": [],
   "source": [
    "month_summary['mom_growth_%'] = month_summary['total_revenue'].pct_change() * 100\n",
    "\n",
    "month_summary"
   ]
  },
  {
   "cell_type": "markdown",
   "id": "19a89626",
   "metadata": {},
   "source": [
    "C3. Product Performance"
   ]
  },
  {
   "cell_type": "code",
   "execution_count": null,
   "id": "b7251a36",
   "metadata": {},
   "outputs": [],
   "source": [
    "product_summary = (\n",
    "    full_data.groupby(['product_id', 'product_name']).agg(\n",
    "        total_revenue=('revenue', 'sum'),\n",
    "        total_quantity=('quantity', 'sum'),\n",
    "        total_cost=('cost_price', 'sum')\n",
    "    )\n",
    "    .reset_index()\n",
    ")"
   ]
  },
  {
   "cell_type": "code",
   "execution_count": null,
   "id": "c87a5df7",
   "metadata": {},
   "outputs": [],
   "source": [
    "product_summary['profit'] = product_summary['total_revenue'] - product_summary['total_cost']\n",
    "product_summary['profit_margin'] = (product_summary['profit'] / product_summary['total_revenue'].replace(0, pd.NA)) * 100"
   ]
  },
  {
   "cell_type": "code",
   "execution_count": null,
   "id": "b153012d",
   "metadata": {},
   "outputs": [],
   "source": [
    "# Pick top 10 properly\n",
    "top_revenue = product_summary.nlargest(10, 'total_revenue')\n",
    "top_quantity = product_summary.nlargest(10, 'total_quantity')\n",
    "top_margin = product_summary.nlargest(10, 'profit_margin')"
   ]
  },
  {
   "cell_type": "code",
   "execution_count": null,
   "id": "56701ae1",
   "metadata": {},
   "outputs": [],
   "source": [
    "print(\"\\n Top 10 Products by Total Revenue:\")\n",
    "print(top_revenue[['product_name', 'total_revenue', 'total_quantity', 'profit_margin']].to_string(index=False))\n"
   ]
  },
  {
   "cell_type": "code",
   "execution_count": null,
   "id": "ea400e23",
   "metadata": {},
   "outputs": [],
   "source": [
    "print(\"\\n Top 10 Products by Total Quantity Sold:\")\n",
    "print(top_quantity[['product_name', 'total_quantity', 'total_revenue', 'profit_margin']].to_string(index=False))\n",
    "\n"
   ]
  },
  {
   "cell_type": "code",
   "execution_count": null,
   "id": "46baf430",
   "metadata": {},
   "outputs": [],
   "source": [
    "print(\"\\n Top 10 Products by Profit Margin:\")\n",
    "print(top_margin[['product_name', 'profit_margin', 'total_revenue', 'total_quantity']].to_string(index=False))"
   ]
  },
  {
   "cell_type": "markdown",
   "id": "af81ceed",
   "metadata": {},
   "source": [
    "C4. Customer Segmentation (RFM)\n"
   ]
  },
  {
   "cell_type": "code",
   "execution_count": 65,
   "id": "081b1198",
   "metadata": {},
   "outputs": [],
   "source": [
    "latest_date = full_data['timestamp'].max()"
   ]
  },
  {
   "cell_type": "code",
   "execution_count": 66,
   "id": "8f9cd04f",
   "metadata": {},
   "outputs": [],
   "source": [
    "rfm = full_data.groupby('customer_id').agg({\n",
    "    'timestamp': lambda x: (latest_date - x.max()).days,  # Recency\n",
    "    'transaction_id': 'count',                            # Frequency\n",
    "    'revenue': 'sum'                                      # Monetary\n",
    "}).reset_index()\n",
    "\n",
    "rfm.columns = ['customer_id', 'Recency', 'Frequency', 'Monetary']\n"
   ]
  },
  {
   "cell_type": "code",
   "execution_count": 67,
   "id": "4fb1c560",
   "metadata": {},
   "outputs": [],
   "source": [
    "rfm['Recency_bin'] = pd.qcut(rfm['Recency'], q=3, labels=['High', 'Medium', 'Low'])\n",
    "rfm['Frequency_bin'] = pd.qcut(rfm['Frequency'], q=3, labels=['Low', 'Medium', 'High'])\n",
    "rfm['Monetary_bin'] = pd.qcut(rfm['Monetary'], q=3, labels=['Low', 'Medium', 'High'])\n"
   ]
  },
  {
   "cell_type": "code",
   "execution_count": null,
   "id": "ab329d8b",
   "metadata": {},
   "outputs": [
    {
     "name": "stdout",
     "output_type": "stream",
     "text": [
      "🔹 Sample of RFM Segmentation:\n",
      "   customer_id  Recency  Frequency   Monetary Recency_bin Frequency_bin  \\\n",
      "0            1      320          5   1424.990         Low        Medium   \n",
      "1            2       38          3    641.990        High           Low   \n",
      "2            3       38         30  11180.420        High          High   \n",
      "3            4      172          8   4383.630      Medium          High   \n",
      "4            5      143          5   1920.980      Medium        Medium   \n",
      "5            6       12          6   2640.970        High        Medium   \n",
      "6            7      189          3   1415.490         Low           Low   \n",
      "7            8      251          3    941.250         Low           Low   \n",
      "8            9      243          4   3080.180         Low        Medium   \n",
      "9           10        2         22   9368.612        High          High   \n",
      "\n",
      "  Monetary_bin               Segment  \n",
      "0       Medium     Low-Medium-Medium  \n",
      "1          Low          High-Low-Low  \n",
      "2         High        High-High-High  \n",
      "3         High      Medium-High-High  \n",
      "4       Medium  Medium-Medium-Medium  \n",
      "5         High      High-Medium-High  \n",
      "6       Medium        Low-Low-Medium  \n",
      "7          Low           Low-Low-Low  \n",
      "8         High       Low-Medium-High  \n",
      "9         High        High-High-High  \n"
     ]
    }
   ],
   "source": [
    "rfm['Segment'] = (\n",
    "    rfm['Recency_bin'].astype(str) + '-' +\n",
    "    rfm['Frequency_bin'].astype(str) + '-' +\n",
    "    rfm['Monetary_bin'].astype(str)\n",
    ")\n",
    "\n",
    "print(\"🔹 Sample of RFM Segmentation:\")\n",
    "print(rfm.head(10)[['customer_id', 'Recency', 'Frequency', 'Monetary',\n",
    "                     'Recency_bin', 'Frequency_bin', 'Monetary_bin', 'Segment']])"
   ]
  }
 ],
 "metadata": {
  "kernelspec": {
   "display_name": ".venv",
   "language": "python",
   "name": "python3"
  },
  "language_info": {
   "codemirror_mode": {
    "name": "ipython",
    "version": 3
   },
   "file_extension": ".py",
   "mimetype": "text/x-python",
   "name": "python",
   "nbconvert_exporter": "python",
   "pygments_lexer": "ipython3",
   "version": "3.13.5"
  }
 },
 "nbformat": 4,
 "nbformat_minor": 5
}
